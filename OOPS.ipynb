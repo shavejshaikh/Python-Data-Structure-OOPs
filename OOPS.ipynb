{
 "cells": [
  {
   "attachments": {},
   "cell_type": "markdown",
   "metadata": {},
   "source": [
    "## CLASS AND OBJECTS"
   ]
  },
  {
   "cell_type": "code",
   "execution_count": 1,
   "metadata": {},
   "outputs": [
    {
     "name": "stdout",
     "output_type": "stream",
     "text": [
      "<class '__main__.Computer'>\n"
     ]
    }
   ],
   "source": [
    "class Computer:       \n",
    "    def config(self):\n",
    "        print(\"i5, 16gb , 1TB\")\n",
    "        \n",
    "com1 = Computer()\n",
    "print(type(com1)) #type of computer "
   ]
  },
  {
   "cell_type": "code",
   "execution_count": 2,
   "metadata": {},
   "outputs": [
    {
     "name": "stdout",
     "output_type": "stream",
     "text": [
      "<class 'int'>\n"
     ]
    }
   ],
   "source": [
    "x= 9\n",
    "print(type(x))"
   ]
  },
  {
   "cell_type": "code",
   "execution_count": 3,
   "metadata": {},
   "outputs": [
    {
     "name": "stdout",
     "output_type": "stream",
     "text": [
      "i5, 16gb , 1TB\n"
     ]
    }
   ],
   "source": [
    "Computer.config(com1)"
   ]
  },
  {
   "cell_type": "code",
   "execution_count": 4,
   "metadata": {},
   "outputs": [],
   "source": [
    "com2 = Computer()"
   ]
  },
  {
   "cell_type": "code",
   "execution_count": 5,
   "metadata": {},
   "outputs": [
    {
     "name": "stdout",
     "output_type": "stream",
     "text": [
      "i5, 16gb , 1TB\n"
     ]
    }
   ],
   "source": [
    "Computer.config(com2)"
   ]
  },
  {
   "cell_type": "code",
   "execution_count": 6,
   "metadata": {},
   "outputs": [
    {
     "name": "stdout",
     "output_type": "stream",
     "text": [
      "i5, 16gb , 1TB\n"
     ]
    }
   ],
   "source": [
    "com1.config()"
   ]
  },
  {
   "cell_type": "code",
   "execution_count": 7,
   "metadata": {},
   "outputs": [
    {
     "name": "stdout",
     "output_type": "stream",
     "text": [
      "i5, 16gb , 1TB\n"
     ]
    }
   ],
   "source": [
    "com2.config() #config take com2 is a argument"
   ]
  },
  {
   "cell_type": "code",
   "execution_count": 8,
   "metadata": {},
   "outputs": [
    {
     "data": {
      "text/plain": [
       "3"
      ]
     },
     "execution_count": 8,
     "metadata": {},
     "output_type": "execute_result"
    }
   ],
   "source": [
    "a = 15\n",
    "a.bit_length()"
   ]
  },
  {
   "attachments": {},
   "cell_type": "markdown",
   "metadata": {},
   "source": [
    "## How to Use Constructor i.e __init__"
   ]
  },
  {
   "cell_type": "code",
   "execution_count": 9,
   "metadata": {},
   "outputs": [
    {
     "name": "stdout",
     "output_type": "stream",
     "text": [
      "Init is Constructor\n",
      "Init is Constructor\n",
      "Config is : i5 16\n",
      "Config is : Ryzen 3 8\n"
     ]
    }
   ],
   "source": [
    "class Comp:\n",
    "    def __init__(self,cpu,ram):\n",
    "        self.cpu = cpu\n",
    "        self.ram = ram\n",
    "        print(\"Init is Constructor\")\n",
    "        \n",
    "    def config(self):\n",
    "        print(\"Config is :\",self.cpu,self.ram)\n",
    "        \n",
    "\n",
    "com1 = Comp('i5',16)\n",
    "com2 = Comp(\"Ryzen 3\",8)\n",
    "\n",
    "com1.config()\n",
    "com2.config()     "
   ]
  },
  {
   "attachments": {},
   "cell_type": "markdown",
   "metadata": {},
   "source": [
    "### How to manipulate Data in class"
   ]
  },
  {
   "cell_type": "code",
   "execution_count": 10,
   "metadata": {},
   "outputs": [
    {
     "name": "stdout",
     "output_type": "stream",
     "text": [
      "There are Different\n",
      "2498498219480\n",
      "2498498470016\n",
      "30\n",
      "Shaikh\n",
      "22\n",
      "Shavej\n"
     ]
    }
   ],
   "source": [
    "class Compid:\n",
    "    \n",
    "    def __init__(self):\n",
    "        self.name = 'Shavej'\n",
    "        self.age  =  21\n",
    "        \n",
    "    def update(self):\n",
    "        self.age = 22\n",
    "        \n",
    "    def compare(self,other):\n",
    "        if self.age == other.age:\n",
    "            return True\n",
    "        else:\n",
    "            return False\n",
    "        \n",
    "\n",
    "com1 = Compid()\n",
    "com1.age = 30\n",
    "com2 = Compid()\n",
    "\n",
    "if com1.compare(com2):\n",
    "    print(\"There are same\")\n",
    "else:\n",
    "    print(\"There are Different\")\n",
    "\n",
    "\n",
    "print(id(com2))\n",
    "print(id(com1))\n",
    "\n",
    "com1.name = 'Shaikh'\n",
    "\n",
    "print(com1.age);\n",
    "com1.update()\n",
    "\n",
    "\n",
    "print(com1.name);\n",
    "print(com1.age);\n",
    "print(com2.name);"
   ]
  },
  {
   "attachments": {},
   "cell_type": "markdown",
   "metadata": {},
   "source": [
    "## Class Variable Vs Method(function) Variable"
   ]
  },
  {
   "cell_type": "code",
   "execution_count": 11,
   "metadata": {},
   "outputs": [
    {
     "name": "stdout",
     "output_type": "stream",
     "text": [
      "Kitne baar guma\n",
      "Kitne baar guma\n",
      "BMW 12 5\n",
      "BMW 10 5\n"
     ]
    }
   ],
   "source": [
    "class Car:\n",
    "    wheels = 4\n",
    "    def __init__(self):\n",
    "        self.mil = 10\n",
    "        self.com = \"BMW\"\n",
    "        print(\"Kitne baar guma\")\n",
    "        \n",
    "c1 = Car()\n",
    "c2 = Car()\n",
    "\n",
    "c1.mil = 12\n",
    "Car.wheels = 5\n",
    "print(c1.com,c1.mil,c1.wheels)\n",
    "print(c2.com,c2.mil,c2.wheels)"
   ]
  },
  {
   "attachments": {},
   "cell_type": "markdown",
   "metadata": {},
   "source": [
    "## Class Method Static Method"
   ]
  },
  {
   "cell_type": "code",
   "execution_count": 12,
   "metadata": {},
   "outputs": [
    {
     "name": "stdout",
     "output_type": "stream",
     "text": [
      "38.0\n",
      "44.333333333333336\n",
      "34\n",
      "Shavej\n",
      "This is Student class ..,\n"
     ]
    }
   ],
   "source": [
    "class Student:\n",
    "    \n",
    "    school = \"Shavej\"\n",
    "    \n",
    "    def __init__(self,m1,m2,m3):\n",
    "        self.m1 = m1\n",
    "        self.m2 = m2\n",
    "        self.m3 = m3\n",
    "\n",
    "    def avg(self):\n",
    "        return(self.m1+self.m2+self.m3)/3\n",
    "    \n",
    "    @classmethod\n",
    "    def getSchool(cls):\n",
    "        return cls.school\n",
    "    \n",
    "    @staticmethod\n",
    "    def info():\n",
    "        print(\"This is Student class ..,\")\n",
    "    \n",
    "    \n",
    "s1 = Student(34,55,25)\n",
    "s2 = Student(89,32,12)\n",
    "\n",
    "print(s1.avg())\n",
    "print(s2.avg())\n",
    "\n",
    "print(s1.m1)# Accessor\n",
    "\n",
    "print(Student.getSchool())\n",
    "\n",
    "Student.info()"
   ]
  },
  {
   "attachments": {},
   "cell_type": "markdown",
   "metadata": {},
   "source": [
    "## How to define class inside class"
   ]
  },
  {
   "cell_type": "code",
   "execution_count": 13,
   "metadata": {},
   "outputs": [
    {
     "name": "stdout",
     "output_type": "stream",
     "text": [
      "Shavej 30\n",
      "HP i5 8\n",
      "2498498473936\n",
      "2498498473768\n"
     ]
    }
   ],
   "source": [
    "class Students:\n",
    "    def __init__(self,name,rollno):\n",
    "        self.name   = name\n",
    "        self.rollno = rollno\n",
    "        self.lap =self.Laptop()\n",
    "  \n",
    "    def show(self):\n",
    "        print(self.name,self.rollno)\n",
    "        self.lap.show()\n",
    "        \n",
    "    class Laptop:\n",
    "        def __init__(self):\n",
    "            self.brand = 'HP'\n",
    "            self.cpu ='i5'\n",
    "            self.ram = 8\n",
    "        \n",
    "        def show(self):\n",
    "            print(self.brand,self.cpu,self.ram)\n",
    "              \n",
    "s1 = Students('Shavej',30)\n",
    "s2 = Students('Shaikh',40)\n",
    "\n",
    "s1.show()\n",
    "# s1.lap.Laptop()\n",
    "\n",
    "lap1 = s1.lap\n",
    "lap2 = s2.lap\n",
    "\n",
    "print(id(lap1))\n",
    "print(id(lap2))"
   ]
  },
  {
   "cell_type": "code",
   "execution_count": 14,
   "metadata": {},
   "outputs": [
    {
     "name": "stdout",
     "output_type": "stream",
     "text": [
      "<__main__.Students.Laptop object at 0x00000245BA1CFE80>\n"
     ]
    }
   ],
   "source": [
    "lap33 = Students.Laptop()\n",
    "print(lap33)"
   ]
  },
  {
   "attachments": {},
   "cell_type": "markdown",
   "metadata": {},
   "source": [
    "# Inheritance "
   ]
  },
  {
   "attachments": {},
   "cell_type": "markdown",
   "metadata": {},
   "source": [
    "### Single level and Multi level Inheritance\n"
   ]
  },
  {
   "cell_type": "code",
   "execution_count": 15,
   "metadata": {},
   "outputs": [
    {
     "name": "stdout",
     "output_type": "stream",
     "text": [
      "Feature 1 working\n",
      "Feature 2 working\n",
      "Feature 1 working\n",
      "Feature 1 working\n"
     ]
    }
   ],
   "source": [
    "class A:\n",
    "    def feature1(self):\n",
    "        print(\"Feature 1 working\")\n",
    "    \n",
    "    def feature2(self):\n",
    "        print(\"Feature 2 working\")\n",
    "\n",
    "class B(A):\n",
    "    def feature3(self):\n",
    "        print(\"Feature 3 working\")\n",
    "    def feature4(self):\n",
    "        print(\"Feature 4 working\")\n",
    "        \n",
    "class C(B):\n",
    "    def feature5(self):\n",
    "        print(\"Feature 5 working\")\n",
    "        \n",
    "      \n",
    "a1 = A()\n",
    "a1.feature1()\n",
    "a1.feature2()\n",
    "\n",
    "b1 = B()\n",
    "b1.feature1()\n",
    "\n",
    "c1 = C()\n",
    "c1.feature1()"
   ]
  },
  {
   "attachments": {},
   "cell_type": "markdown",
   "metadata": {},
   "source": [
    "### Multiple Level Inheritance"
   ]
  },
  {
   "cell_type": "code",
   "execution_count": 16,
   "metadata": {},
   "outputs": [
    {
     "name": "stdout",
     "output_type": "stream",
     "text": [
      "Feature 1 working\n",
      "Feature 2 working\n",
      "Feature 1 working\n",
      "Feature 3 working\n"
     ]
    }
   ],
   "source": [
    "# Multiple Level Inheritance\n",
    "class A:\n",
    "    def feature1(self):\n",
    "        print(\"Feature 1 working\")\n",
    "    \n",
    "    def feature2(self):\n",
    "        print(\"Feature 2 working\")\n",
    "\n",
    "class B:\n",
    "    def feature3(self):\n",
    "        print(\"Feature 3 working\")\n",
    "    def feature4(self):\n",
    "        print(\"Feature 4 working\")\n",
    "        \n",
    "class C(A,B):\n",
    "    def feature5(self):\n",
    "        print(\"Feature 5 working\")\n",
    "\n",
    "a1 = A()\n",
    "a1.feature1()\n",
    "a1.feature2()\n",
    "\n",
    "b1 = B()\n",
    "# b1.feature1()\n",
    "\n",
    "c1 = C()\n",
    "c1.feature1()\n",
    "c1.feature3()"
   ]
  },
  {
   "attachments": {},
   "cell_type": "markdown",
   "metadata": {},
   "source": [
    "## Constructor in Inheritance\n",
    "### Method Resolution Order(MRO)"
   ]
  },
  {
   "cell_type": "code",
   "execution_count": 17,
   "metadata": {},
   "outputs": [
    {
     "name": "stdout",
     "output_type": "stream",
     "text": [
      "Print A\n",
      "Print C\n",
      "Feature 1-A working\n",
      "Feature 2 working\n"
     ]
    }
   ],
   "source": [
    "class A:\n",
    "    \n",
    "    def __init__(self):\n",
    "        print(\"Print A\")\n",
    "    def feature1(self):\n",
    "        print(\"Feature 1-A working\")\n",
    "    \n",
    "    def feature2(self):\n",
    "        print(\"Feature 2 working\")\n",
    "\n",
    "class B:\n",
    "    \n",
    "    def __init__(self):\n",
    "        #Call A constructor\n",
    "#         super().__init__()\n",
    "        print(\"Print B\")\n",
    "        \n",
    "    def feature1(self):\n",
    "        print(\"Feature 3-B working\")\n",
    "    def feature4(self):\n",
    "        print(\"Feature 4 working\")\n",
    "        \n",
    "# MRO\n",
    "class C(A,B):\n",
    "    def __init__(self):\n",
    "        super().__init__()\n",
    "        print('Print C')\n",
    "        \n",
    "    def feat(self):\n",
    "        super().feature2()\n",
    "      \n",
    "\n",
    "# a1 = A()\n",
    "# a1.feature1()\n",
    "# a1.feature2()\n",
    "\n",
    "# b1 = C()\n",
    "# b1.feature1()\n",
    "\n",
    "c1 = C()\n",
    "c1.feature1()\n",
    "c1.feat()\n",
    "# c1.feature3()"
   ]
  },
  {
   "attachments": {},
   "cell_type": "markdown",
   "metadata": {},
   "source": [
    "# Polymorphism "
   ]
  },
  {
   "attachments": {},
   "cell_type": "markdown",
   "metadata": {},
   "source": [
    "### 1. Duck Typing"
   ]
  },
  {
   "cell_type": "code",
   "execution_count": 18,
   "metadata": {},
   "outputs": [
    {
     "name": "stdout",
     "output_type": "stream",
     "text": [
      "Error Checking...\n",
      "Compiling...\n",
      "Running....\n"
     ]
    }
   ],
   "source": [
    "class Jupyter:\n",
    "    \n",
    "    def execute(self):\n",
    "        print(\"Error Checking...\")\n",
    "        print(\"Compiling...\")\n",
    "        print(\"Running....\")\n",
    "        \n",
    "        \n",
    "class Laptop:\n",
    "    \n",
    "    \n",
    "    def code(self,ide):\n",
    "        ide.execute()\n",
    "        \n",
    "ide = Jupyter()\n",
    "\n",
    "lap = Laptop()\n",
    "lap.code(ide)"
   ]
  },
  {
   "attachments": {},
   "cell_type": "markdown",
   "metadata": {},
   "source": [
    "### 2. Operator Overloading\n",
    "--> When Addition or Subtraction method(function) is call then it will class __add__ and __sub__ __mul__ etc"
   ]
  },
  {
   "cell_type": "code",
   "execution_count": 19,
   "metadata": {},
   "outputs": [
    {
     "name": "stdout",
     "output_type": "stream",
     "text": [
      "134\n",
      "58 69\n",
      "s2 win\n",
      "140728339784784\n",
      "9\n"
     ]
    }
   ],
   "source": [
    "class Student:\n",
    "    \n",
    "    def __init__(self,m1,m2):\n",
    "        self.m1=m1\n",
    "        self.m2=m2\n",
    "    \n",
    "    def __add__(self,other):\n",
    "        m1 =self.m1 + other.m1\n",
    "        m2 =self.m2 + other.m2\n",
    "        s3 = Student(m1,m2)\n",
    "        return s3\n",
    "    \n",
    "    def __gt__(self,other):\n",
    "        r1 = self.m1 + self.m2\n",
    "        r2 = self.m1+ self.m2\n",
    "        \n",
    "        if r1> r2:\n",
    "            return True\n",
    "        else:\n",
    "            return False\n",
    "        \n",
    "    def __str__(self):\n",
    "        return '{} {}'.format(self.m1,self.m2)\n",
    "    \n",
    "s1 = Student(58,69)\n",
    "s2 = Student(60,65)\n",
    "\n",
    "s3 = s1 + s2\n",
    "\n",
    "print(s3.m2)\n",
    "print(s1.__str__())\n",
    "\n",
    "if s1 > s2:\n",
    "    print(\"s1 win\")\n",
    "else:\n",
    "    print(\"s2 win\")\n",
    "    \n",
    "a = 9\n",
    "print(id(a))\n",
    "print(a.__int__())"
   ]
  },
  {
   "attachments": {},
   "cell_type": "markdown",
   "metadata": {},
   "source": [
    "### 3. Method Overloading"
   ]
  },
  {
   "cell_type": "code",
   "execution_count": 20,
   "metadata": {},
   "outputs": [
    {
     "name": "stdout",
     "output_type": "stream",
     "text": [
      "14\n",
      "24\n",
      "5\n"
     ]
    }
   ],
   "source": [
    "class Student:\n",
    "    \n",
    "    def __init__(self,m1,m2):\n",
    "        self.m1=m1\n",
    "        self.m2=m2\n",
    "    \n",
    "    def sum(self,a=None,b=None,c=None):\n",
    "        s=0\n",
    "        if a!=None  and b!=None and c!=None:\n",
    "            s = a+b+c\n",
    "        elif a!=None  and b!=None:\n",
    "            s = a+b\n",
    "        else:\n",
    "            s = a\n",
    "        return s\n",
    "    \n",
    "    \n",
    "s1 = Student(58,69)\n",
    "s2 = Student(60,65)\n",
    "\n",
    "print(s1.sum(5,9))\n",
    "print(s1.sum(5,9,10))\n",
    "print(s1.sum(5))"
   ]
  },
  {
   "attachments": {},
   "cell_type": "markdown",
   "metadata": {},
   "source": [
    "### 4. Method Overridding"
   ]
  },
  {
   "cell_type": "code",
   "execution_count": 21,
   "metadata": {},
   "outputs": [
    {
     "name": "stdout",
     "output_type": "stream",
     "text": [
      "In B show\n"
     ]
    }
   ],
   "source": [
    "class A:\n",
    "    \n",
    "    def show(self):\n",
    "        print(\"In A show\")\n",
    "        \n",
    "class B(A):\n",
    "    def show(self):\n",
    "        print(\"In B show\")\n",
    "     \n",
    "a = B()\n",
    "a.show()"
   ]
  }
 ],
 "metadata": {
  "kernelspec": {
   "display_name": "Python 3",
   "language": "python",
   "name": "python3"
  },
  "language_info": {
   "codemirror_mode": {
    "name": "ipython",
    "version": 3
   },
   "file_extension": ".py",
   "mimetype": "text/x-python",
   "name": "python",
   "nbconvert_exporter": "python",
   "pygments_lexer": "ipython3",
   "version": "3.7.2"
  }
 },
 "nbformat": 4,
 "nbformat_minor": 4
}
